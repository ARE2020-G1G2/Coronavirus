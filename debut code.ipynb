{
 "cells": [
  {
   "cell_type": "code",
   "execution_count": 2,
   "metadata": {},
   "outputs": [],
   "source": [
    "import numpy as np"
   ]
  },
  {
   "cell_type": "code",
   "execution_count": 3,
   "metadata": {},
   "outputs": [
    {
     "data": {
      "text/plain": [
       "array([[0, 0, 0, 0, 0, 0, 0, 0, 0, 0],\n",
       "       [0, 1, 0, 0, 0, 0, 0, 0, 0, 0],\n",
       "       [0, 0, 0, 0, 0, 0, 0, 0, 0, 0],\n",
       "       [0, 0, 0, 0, 0, 0, 0, 0, 0, 0],\n",
       "       [0, 0, 0, 0, 0, 0, 0, 0, 0, 0],\n",
       "       [0, 0, 0, 0, 0, 0, 0, 0, 0, 0],\n",
       "       [0, 0, 0, 0, 0, 0, 0, 0, 0, 0],\n",
       "       [0, 0, 0, 0, 0, 0, 0, 0, 0, 0],\n",
       "       [0, 0, 0, 0, 0, 0, 0, 0, 0, 0],\n",
       "       [0, 0, 0, 0, 0, 0, 0, 0, 0, 0]])"
      ]
     },
     "execution_count": 3,
     "metadata": {},
     "output_type": "execute_result"
    }
   ],
   "source": [
    "def monde(n):\n",
    "    a=np.zeros((n,n),dtype=int)\n",
    "    for i in range(0,n):\n",
    "        for c in range(0,n):\n",
    "            if i==1: \n",
    "                if c==1:\n",
    "                     a[i,c]=1\n",
    "    return a\n",
    "monde(10)"
   ]
  },
  {
   "cell_type": "raw",
   "metadata": {},
   "source": [
    "code au cas ou si besoin "
   ]
  },
  {
   "cell_type": "code",
   "execution_count": 6,
   "metadata": {},
   "outputs": [
    {
     "data": {
      "text/plain": [
       "(1, 99, 0, 0)"
      ]
     },
     "execution_count": 6,
     "metadata": {},
     "output_type": "execute_result"
    }
   ],
   "source": [
    "popu=monde(10)\n",
    "def nb_popu(tabF):\n",
    "    popu = tabF\n",
    "    nb_sain = 0 \n",
    "    nb_infect = 0  \n",
    "    nb_mort=0\n",
    "    nb_rétablie=0\n",
    "    \n",
    "    for i in range(len(popu)) : \n",
    "        for j in range(len(popu)) :\n",
    "                if popu[i,j] == 1:\n",
    "                    nb_infect = nb_infect +1\n",
    "                if popu[i,j] == 0:\n",
    "                    nb_sain = nb_sain +1\n",
    "                if popu[i,j] == 3:\n",
    "                    nb_mort = nb_mort +1\n",
    "                if popu[i,j] == 2:\n",
    "                    nb_rétablie = nb_rétablie +1\n",
    "                \n",
    "    return nb_infect, nb_sain,nb_mort,nb_rétablie\n",
    "nb_popu(popu)"
   ]
  },
  {
   "cell_type": "code",
   "execution_count": 4,
   "metadata": {},
   "outputs": [],
   "source": [
    "def mouvement (M,voisins):\n",
    "    voisins = [(1,0),(-1,0),(0,1),(0,-1),(1,-1),(1,1),(-1,1),(-1,-1)]   # récupérer liste des voisins\n",
    "    for e in voisins:\n",
    "        if M[e]==0:\n",
    "            M.append(e)\n",
    "    rd.choice(M)\n",
    "    return M"
   ]
  },
  {
   "cell_type": "code",
   "execution_count": null,
   "metadata": {},
   "outputs": [],
   "source": [
    "def ini_individu(M,x,y):\n",
    "    resultat = M\n",
    "    if M[x, y] == 2:  #  personne rétablie\n",
    "        resultat[x, y] = 2  \n",
    "    if M[x, y] == 3: # personne décédée\n",
    "        resultat[x, y] = 3  \n",
    "    if M[x, y]== 0:# i.e. personne saine \n",
    "        resulta[x,y]=0"
   ]
  },
  {
   "cell_type": "code",
   "execution_count": null,
   "metadata": {},
   "outputs": [],
   "source": []
  }
 ],
 "metadata": {
  "kernelspec": {
   "display_name": "Python 3",
   "language": "python",
   "name": "python3"
  },
  "language_info": {
   "codemirror_mode": {
    "name": "ipython",
    "version": 3
   },
   "file_extension": ".py",
   "mimetype": "text/x-python",
   "name": "python",
   "nbconvert_exporter": "python",
   "pygments_lexer": "ipython3",
   "version": "3.7.4"
  }
 },
 "nbformat": 4,
 "nbformat_minor": 2
}
