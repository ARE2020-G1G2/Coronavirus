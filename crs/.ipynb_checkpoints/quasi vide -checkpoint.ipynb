{
 "cells": [
  {
   "cell_type": "markdown",
   "metadata": {},
   "source": [
    "TESTE PREJET CYRIL SOLO PTN DE MERDE "
   ]
  },
  {
   "cell_type": "code",
   "execution_count": 7,
   "metadata": {},
   "outputs": [],
   "source": [
    "import numpy as np\n",
    "import numpy\n",
    "import networkx as nx\n",
    "import matplotlib.pyplot as plt\n",
    "import matplotlib.gridspec as gridspec\n",
    "import random\n",
    "import time"
   ]
  },
  {
   "cell_type": "code",
   "execution_count": null,
   "metadata": {},
   "outputs": [],
   "source": [
    "# -*- coding: utf-8 -*-\n",
    "\n",
    "\"\"\"\n",
    "Représentation temporelle d'une onde\n",
    "\"\"\"\n",
    "\n",
    "from __future__ import division\n",
    "from scipy import *\n",
    "from pylab import *\n",
    "\n",
    "from matplotlib import animation\n",
    "\n",
    "x = linspace(0,10,500)\n",
    "\n",
    "# Animation\n",
    "\n",
    "def y(x,t):\n",
    "\treturn cos(2*pi*t-pi*x)\t\t\t\t# Fonction à animer\n",
    "\n",
    "\n",
    "fig1 = figure()\n",
    "ax = fig1.add_subplot(111)\n",
    "\n",
    "xlim(0, 10)                                   \t\t\t# Limites de l'axe des abscisses\n",
    "xlabel(ur\"$x \\, (m)$\", fontsize=16)        \t# Label de l'axe des abscisses\n",
    "\n",
    "ylim(-1.5, 1.5)                                \t\t\t# Limites de l'axe des ordonnées\n",
    "ylabel(ur\"$y \\, (m)$\", fontsize=16)        \t# Label de l'axe des ordonnées\n",
    "\n",
    "line, = plot([], [], '-', color='b', lw=2)          \t# Mise en forme extérieure à la boucle pour effacement entre chaque image\n",
    "\n",
    "def init():          \t\t\t\t\t\t# Initialisation avec du vide\n",
    "    line.set_data([], [])\n",
    "    return line,\n",
    "\n",
    "def animate(i):\n",
    "\tt=i/25\n",
    "\tline.set_data(x, y(x,t))\n",
    "\tprint(\"frame num %d\" %i)\n",
    "\treturn line,\t\t\t\t\t\t# Ne pas oublier la \",\" pour le tupple\n",
    "\n",
    "\n",
    "anim = animation.FuncAnimation(fig1, animate, frames=26, interval=2, init_func=init)\n",
    "\n",
    "anim.save('representation_temporelle_1D.mp4', fps=25)\t# Sauvegarde du film\n",
    "\n",
    "show()"
   ]
  },
  {
   "cell_type": "code",
   "execution_count": null,
   "metadata": {},
   "outputs": [],
   "source": []
  }
 ],
 "metadata": {
  "kernelspec": {
   "display_name": "Python 3",
   "language": "python",
   "name": "python3"
  },
  "language_info": {
   "codemirror_mode": {
    "name": "ipython",
    "version": 3
   },
   "file_extension": ".py",
   "mimetype": "text/x-python",
   "name": "python",
   "nbconvert_exporter": "python",
   "pygments_lexer": "ipython3",
   "version": "3.7.4"
  }
 },
 "nbformat": 4,
 "nbformat_minor": 2
}
