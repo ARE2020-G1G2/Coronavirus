{
 "cells": [
  {
   "cell_type": "code",
   "execution_count": 18,
   "metadata": {},
   "outputs": [],
   "source": [
    "import numpy as np\n",
    "import random as rd\n",
    "import matplotlib.pyplot as plt"
   ]
  },
  {
   "cell_type": "code",
   "execution_count": 26,
   "metadata": {},
   "outputs": [
    {
     "data": {
      "text/plain": [
       "array([[0, 0, 0, 0, 0, 0, 0, 0, 0, 0],\n",
       "       [0, 1, 0, 0, 0, 0, 0, 0, 0, 0],\n",
       "       [0, 0, 0, 0, 0, 0, 0, 0, 0, 0],\n",
       "       [0, 0, 0, 0, 0, 0, 0, 0, 0, 0],\n",
       "       [0, 0, 0, 0, 0, 0, 0, 0, 0, 0],\n",
       "       [0, 0, 0, 0, 0, 0, 0, 0, 0, 0],\n",
       "       [0, 0, 0, 0, 0, 0, 0, 0, 0, 0],\n",
       "       [0, 0, 0, 0, 0, 0, 0, 0, 0, 0],\n",
       "       [0, 0, 0, 0, 0, 0, 0, 0, 0, 0],\n",
       "       [0, 0, 0, 0, 0, 0, 0, 0, 0, 0]])"
      ]
     },
     "execution_count": 26,
     "metadata": {},
     "output_type": "execute_result"
    }
   ],
   "source": [
    "\n",
    "def grille(n):\n",
    "    a=np.zeros((n,n),dtype=int)\n",
    "    z=1\n",
    "    for i in range(n):\n",
    "        if i==z:\n",
    "            for j in range(n):\n",
    "                if j==z:\n",
    "                    a[i,j]=1\n",
    "\n",
    "    return a\n",
    "grille(10)\n"
   ]
  },
  {
   "cell_type": "code",
   "execution_count": null,
   "metadata": {},
   "outputs": [],
   "source": [
    "def grille(n):\n",
    "    a=np.zeros((n,n),dtype=int)\n",
    "    k=1\n",
    "    r=1\n",
    "    for i in range(n):\n",
    "        if i==k:\n",
    "            for j in range(n):\n",
    "                if j==r:\n",
    "                    a[i,j]=1\n",
    "    return a"
   ]
  },
  {
   "cell_type": "code",
   "execution_count": null,
   "metadata": {},
   "outputs": [],
   "source": [
    "def grille(n):\n",
    "    a=np.zeros((n,n),dtype=int)\n",
    "    k=1\n",
    "    r=1\n",
    "    for i in range(n):\n",
    "        if i==k:\n",
    "            for j in range(n):\n",
    "                if j==r:\n",
    "                    a[i,j]=1\n",
    "    return a"
   ]
  },
  {
   "cell_type": "code",
   "execution_count": null,
   "metadata": {},
   "outputs": [],
   "source": [
    "N=np.zeros((n,n),dtype=int)"
   ]
  },
  {
   "cell_type": "code",
   "execution_count": null,
   "metadata": {},
   "outputs": [],
   "source": [
    "def deplacement(M, i, j):\n",
    "    voisins = [(1,0),(-1,0),(0,1),(0,-1),(1,-1),(1,1),(-1,1),(-1,-1)]                # récupérer liste des voisins\n",
    "    voisins = [v for v in voisins if M[v] == 0]\n",
    "    rd.choice(voisins) # renvoie une des positions à laquelle il n'y a rien\n",
    "    return"
   ]
  },
  {
   "cell_type": "code",
   "execution_count": null,
   "metadata": {},
   "outputs": [],
   "source": [
    "def etat_incubation1(M, p1, p2, x, y, temps_incubation, dictio):\n",
    "    assert M.shape[0] == M.shape[1]\n",
    "    n = M.shape[0]\n",
    "    \n",
    "    resultat = M\n",
    "    \n",
    "    L = [(1,0),(-1,0),(0,1),(0,-1),(1,-1),(1,1),(-1,1),(-1,-1)]\n",
    "    voisin_infecte = 0\n",
    "\n",
    "    if M[x, y] == 2:  # i.e. personne rétablie\n",
    "        resultat[x, y] = 2  # reste rétablie\n",
    "    elif M[x, y] == 3:  # i.e personne décédée\n",
    "        resultat[x, y] = 3  # reste décédée\n",
    "    elif M[x, y] == 0:  # i.e. personne saine        \n",
    "        for (dx, dy) in L:  # pour chaque voisin\n",
    "            if x+dx < n and x+dx >= 0 and y+dy < n and y+dy >= 0:  # i.e. gestion des bords\n",
    "                if M[x+dx, y+dy] == 1:  # i.e. voisin infecté\n",
    "                    # if numpy.random.random() <= p2:\n",
    "                        voisin_infecte += 1\n",
    "\n",
    "         # Gérer l'infection de la personne.\n",
    "    if voisin_infecte > 0:\n",
    "         #r = 0  # initialisation du résultat\n",
    "         #for k in range(0, voisin_infecte):  # pour chaque voisin infecté\n",
    "            #x = np.random.binomial(1, p2)  # 1 si le voisin k m'infecte, 0 sinon\n",
    "            #r = max(r, x)  # mis à jour du résultat\n",
    "         #resultat[x, y] = r  # infecter la personne\n",
    "        if np.random.random() <= p2:\n",
    "            #print((x,y), \"tombe malade\")\n",
    "            resultat[x,y] = 1\n",
    "\n",
    "    # if resultat[1, 1] == 1:\n",
    "    #     print(\"infecté\")\n",
    "    # else:\n",
    "    #     print(\"non infecté\")\n",
    "    \n",
    "    \n",
    "   \n",
    "    # Gérer l'incubation de la personne.\n",
    "    if resultat[x, y] == 1 :  # i.e. infectée\n",
    "        # Incrémente le compteur de tous les malades : dictio = dict()\n",
    "        if (x, y) in dictio:\n",
    "            #print((x, y))\n",
    "            dictio[(x, y)] = dictio[(x, y)] + 1   # On entre en incubation \n",
    "        else:\n",
    "            # Nouvel infecté : on le rajoute au dictionnaire\n",
    "            dictio[(x, y)] = 1\n",
    "        #print((x,y), dictio[(x,y)])\n",
    "    \n",
    "   \n",
    "    # En incubation depuis \"pas\" tours : on devient soit rétabli soit décédé selon une propabilité  p1\n",
    "\n",
    "    if (x, y) in dictio and dictio[(x, y)] >= temps_incubation:\n",
    "        if np.random.random() <= p1:\n",
    "            resultat[x, y] = 3  # décédé\n",
    "        else:\n",
    "            resultat[x, y] = 2  # rétabli\n",
    "        dictio.pop((x, y))\n",
    "        \n",
    "    \n",
    "    return resultat, dictio"
   ]
  },
  {
   "cell_type": "code",
   "execution_count": null,
   "metadata": {},
   "outputs": [],
   "source": [
    "d = {(1,1):1}\n",
    "p1 = 0.4\n",
    "n = 20\n",
    "p2 = 0.1\n",
    "M = grille(n)\n",
    "temps_incubation = 7\n",
    "max_itere = 100"
   ]
  },
  {
   "cell_type": "code",
   "execution_count": null,
   "metadata": {},
   "outputs": [],
   "source": [
    "def next_step_incubation(M,d):\n",
    "    #d = {(1,1):1}\n",
    "    #resultat=grille(n)\n",
    "   # print(M)d = {(1,1):1}\n",
    "    #print(d)\n",
    "    for i in range(n):\n",
    "        for j in range(n):\n",
    "            M, d = etat_incubation1(M, p1, p2, i, j, temps_incubation, d)\n",
    "             \n",
    "            #print(M)\n",
    "            #print(d)\n",
    "    \n",
    "    return M"
   ]
  },
  {
   "cell_type": "code",
   "execution_count": null,
   "metadata": {},
   "outputs": [],
   "source": [
    "next_step_incubation(M,{(1,1):1})"
   ]
  },
  {
   "cell_type": "code",
   "execution_count": null,
   "metadata": {},
   "outputs": [],
   "source": [
    "d = {(1,1):1}\n",
    "p1 = 0.4\n",
    "n = 20\n",
    "p2 = 0.1\n",
    "M = grille(n)\n",
    "temps_incubation = 7\n",
    "max_itere = 100"
   ]
  },
  {
   "cell_type": "code",
   "execution_count": null,
   "metadata": {},
   "outputs": [],
   "source": [
    "def simulation(max_itere, n):\n",
    "    cpt=0\n",
    "    M = grille(n)\n",
    "    D= dict()\n",
    "    D={(1,1):1}\n",
    "    resultat=[] \n",
    "    resultat.append((M).copy())\n",
    "    new_state=next_step_incubation(M,D)\n",
    "    while(cpt<max_itere):\n",
    "        resultat.append((new_state).copy())\n",
    "        new_state= next_step_incubation(new_state,D)\n",
    "        cpt = cpt+1\n",
    "        \n",
    "    return resultat"
   ]
  },
  {
   "cell_type": "code",
   "execution_count": null,
   "metadata": {},
   "outputs": [],
   "source": [
    "res1 = simulation(max_itere, n)\n",
    "for x in res1:\n",
    "    print(x)"
   ]
  },
  {
   "cell_type": "code",
   "execution_count": null,
   "metadata": {},
   "outputs": [],
   "source": [
    "#https://stackoverflow.com/questions/15908371/matplotlib-colorbars-and-its-text-labels?utm_medium=organic&utm_source=google_rich_qa&utm_campaign=google_rich_qa\n",
    "\n",
    "%matplotlib notebook\n",
    "from pylab import *\n",
    "\n",
    "\n",
    "\n",
    "x=0\n",
    "y=0\n",
    "\n",
    "\n",
    "def simulation(max_itere):\n",
    "    M=grille(n)\n",
    "    cpt=0\n",
    "    resultat=[M.copy()]\n",
    "    new_state=next_step_incubation(M,d)\n",
    "    \n",
    "    while (cpt < max_itere):\n",
    "        resultat.append(new_state.copy())\n",
    "        new_state= next_step_incubation(new_state,d)\n",
    "        cpt = cpt+1\n",
    "    \n",
    "    return resultat\n",
    "\n",
    "resultat_final = simulation(max_itere)\n",
    "\n",
    "print(resultat_final)\n",
    "\n",
    "\n",
    "import matplotlib.pyplot as plt\n",
    "size = np.array(M.shape)\n",
    "dpi = 10.0 \n",
    "figsize= size[1]/float(dpi),size[0]/float(dpi)\n",
    "fig = plt.figure(facecolor = \"white\")\n",
    "fig.add_axes([0.0, 0.0, 1.0, 1.0], frameon = False)\n",
    "im=plt.imshow(M, interpolation = 'nearest', cmap =\"viridis\", vmin=0, vmax=3)\n",
    "plt.xticks([]), plt.yticks([]) \n",
    "plt.colorbar()\n",
    "\n",
    "\n",
    "\n",
    "\n",
    "import matplotlib.animation as animation\n",
    "\n",
    "def update(i):\n",
    "    #simulation_4param(max_itere=10)\n",
    "    M = resultat_final[i]\n",
    "    im.set_array(M)\n",
    "    return im,\n",
    "\n",
    "ani = animation.FuncAnimation(fig, update, frames=len(resultat_final), interval=500)\n",
    "plt.show()"
   ]
  },
  {
   "cell_type": "code",
   "execution_count": null,
   "metadata": {},
   "outputs": [],
   "source": []
  },
  {
   "cell_type": "code",
   "execution_count": null,
   "metadata": {},
   "outputs": [],
   "source": []
  },
  {
   "cell_type": "code",
   "execution_count": null,
   "metadata": {},
   "outputs": [],
   "source": []
  },
  {
   "cell_type": "code",
   "execution_count": null,
   "metadata": {},
   "outputs": [],
   "source": []
  }
 ],
 "metadata": {
  "kernelspec": {
   "display_name": "Python 3",
   "language": "python",
   "name": "python3"
  },
  "language_info": {
   "codemirror_mode": {
    "name": "ipython",
    "version": 3
   },
   "file_extension": ".py",
   "mimetype": "text/x-python",
   "name": "python",
   "nbconvert_exporter": "python",
   "pygments_lexer": "ipython3",
   "version": "3.7.4"
  }
 },
 "nbformat": 4,
 "nbformat_minor": 2
}
